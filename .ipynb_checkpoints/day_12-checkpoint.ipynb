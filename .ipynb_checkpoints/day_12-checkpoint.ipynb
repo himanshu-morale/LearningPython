{
 "cells": [
  {
   "cell_type": "markdown",
   "id": "1061b799-c85e-43c2-a8cd-0fbd8ff7ec21",
   "metadata": {},
   "source": [
    "**File Handling**"
   ]
  },
  {
   "cell_type": "code",
   "execution_count": 1,
   "id": "c6c78cef-fb56-490c-b643-333f5ca89a8c",
   "metadata": {},
   "outputs": [],
   "source": [
    "# file handling allows to you create,read,write and manipulate data in filedirectly from python program.\n"
   ]
  },
  {
   "cell_type": "markdown",
   "id": "43fbee7f-af4b-4443-8a9c-9a698509da8e",
   "metadata": {},
   "source": [
    "open() function"
   ]
  },
  {
   "cell_type": "code",
   "execution_count": 2,
   "id": "38da168f-2cf9-40d8-b402-43aa04e42a20",
   "metadata": {},
   "outputs": [],
   "source": [
    "# syntax:\n",
    "# file=open(\"filename\",\"mode\")\n",
    "\n",
    "# here:\n",
    "# filename= name of the file\n",
    "# mode= operation mode -read(r), write(w), append(a)\n",
    "\n",
    "# example:\n",
    "f=open(\"filehandling.txt\",\"w\")\n",
    "f=open(\"filehandling.txt\",\"r\")"
   ]
  },
  {
   "cell_type": "markdown",
   "id": "c2cc0318-52fa-40ac-9195-744c3a2c2f3a",
   "metadata": {},
   "source": [
    "Difference bw write and append:\n",
    "\n",
    "write se pura content delete hota h and new data add hota <br>\n",
    "append se purana content as it is rheta h and new data continue hota h"
   ]
  },
  {
   "cell_type": "markdown",
   "id": "a7c36512-7df4-4b0a-86da-8865d0c285ce",
   "metadata": {},
   "source": [
    "**Writing to a file:**"
   ]
  },
  {
   "cell_type": "code",
   "execution_count": 3,
   "id": "b34206a3-0489-4cf0-b53f-94f8aca9f8ae",
   "metadata": {},
   "outputs": [],
   "source": [
    "f=open(\"filehandling.txt\",\"w\")\n",
    "f.write(\"This is the first line of the file\\n\")\n",
    "f.close()"
   ]
  },
  {
   "cell_type": "markdown",
   "id": "3a719ff0-07b6-45cd-bcc3-5a20170588ae",
   "metadata": {},
   "source": [
    "**Appending to a file**"
   ]
  },
  {
   "cell_type": "code",
   "execution_count": 4,
   "id": "729250bc-cc28-4d72-b257-b8a9cf46d3e1",
   "metadata": {},
   "outputs": [],
   "source": [
    "f=open(\"filehandling.txt\",\"a\")\n",
    "f.write(\"This is second line of the file\")\n",
    "f.close()"
   ]
  },
  {
   "cell_type": "markdown",
   "id": "61dedd44-1be2-43c8-a7e7-ab89be61fd9d",
   "metadata": {},
   "source": [
    "**Reading a file:**"
   ]
  },
  {
   "cell_type": "code",
   "execution_count": 6,
   "id": "34026fde-cbe7-4a1c-adcf-53cd32667dff",
   "metadata": {},
   "outputs": [
    {
     "name": "stdout",
     "output_type": "stream",
     "text": [
      "This is the first line of the file\n",
      "This is second line of the file\n"
     ]
    }
   ],
   "source": [
    "# read()- reads entire file\n",
    "f=open(\"filehandling.txt\",\"r\")\n",
    "content=f.read()\n",
    "print(content)\n",
    "f.close()"
   ]
  },
  {
   "cell_type": "code",
   "execution_count": 8,
   "id": "1ea5926a-f22d-44fe-86e7-caee17fabec2",
   "metadata": {},
   "outputs": [
    {
     "name": "stdout",
     "output_type": "stream",
     "text": [
      "This is the first line of the file\n",
      "\n",
      "This is second line of the file\n"
     ]
    }
   ],
   "source": [
    "# readline()- reads file line by line\n",
    "f=open(\"filehandling.txt\",\"r\")\n",
    "line1=f.readline()\n",
    "line2=f.readline()\n",
    "print(line1)\n",
    "print(line2)\n",
    "f.close()"
   ]
  },
  {
   "cell_type": "code",
   "execution_count": 9,
   "id": "6bc1cb1c-dbea-4c2d-a4d7-cbcc6d19fed9",
   "metadata": {},
   "outputs": [
    {
     "name": "stdout",
     "output_type": "stream",
     "text": [
      "['This is the first line of the file\\n', 'This is second line of the file']\n",
      "[]\n"
     ]
    }
   ],
   "source": [
    "# readlines()- reads all lines into a list\n",
    "f=open(\"filehandling.txt\",\"r\")\n",
    "line1=f.readlines()\n",
    "line2=f.readlines()\n",
    "print(line1)\n",
    "print(line2)\n",
    "f.close()"
   ]
  },
  {
   "cell_type": "markdown",
   "id": "5d1bd859-d357-45ae-9b9b-ef33c6aaa358",
   "metadata": {},
   "source": [
    "**Using with statement:**"
   ]
  },
  {
   "cell_type": "code",
   "execution_count": 10,
   "id": "bc922839-de74-4397-9320-47805f9453db",
   "metadata": {},
   "outputs": [
    {
     "name": "stdout",
     "output_type": "stream",
     "text": [
      "This is the first line of the file\n",
      "This is second line of the file\n"
     ]
    }
   ],
   "source": [
    "# the with statement automatically closes the file even if an error occured\n",
    "# best practice\n",
    "\n",
    "with open(\"filehandling.txt\",\"r\") as f:\n",
    "    data=f.read()\n",
    "    print(data)"
   ]
  }
 ],
 "metadata": {
  "kernelspec": {
   "display_name": "Python 3 (ipykernel)",
   "language": "python",
   "name": "python3"
  },
  "language_info": {
   "codemirror_mode": {
    "name": "ipython",
    "version": 3
   },
   "file_extension": ".py",
   "mimetype": "text/x-python",
   "name": "python",
   "nbconvert_exporter": "python",
   "pygments_lexer": "ipython3",
   "version": "3.13.7"
  }
 },
 "nbformat": 4,
 "nbformat_minor": 5
}
