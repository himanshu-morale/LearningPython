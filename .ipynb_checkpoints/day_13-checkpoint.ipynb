{
 "cells": [
  {
   "cell_type": "markdown",
   "id": "48c20e35-2901-4e16-96e3-dd4dbf345df9",
   "metadata": {},
   "source": [
    "# Topics: Lambda ,map(),filter(),reduce()"
   ]
  },
  {
   "cell_type": "markdown",
   "id": "9849f6a0-741f-499f-ae72-f5d39c172d72",
   "metadata": {},
   "source": [
    "**lambda functions**"
   ]
  },
  {
   "cell_type": "markdown",
   "id": "3fc80db7-ae5a-4c39-9345-5f9633f3bb92",
   "metadata": {},
   "source": [
    "A lambda function is a anonymous function(function without name)<br>\n",
    "It is a single line expression used for short and simple operations"
   ]
  },
  {
   "cell_type": "markdown",
   "id": "71d7078b-cc21-44da-b97a-4c45162a7417",
   "metadata": {},
   "source": [
    "syntax:<br>\n",
    "lambda arguments:expression"
   ]
  },
  {
   "cell_type": "markdown",
   "id": "5710d4f9-5397-41b4-a1ea-41c1c152f32c",
   "metadata": {},
   "source": [
    "example 1:"
   ]
  },
  {
   "cell_type": "code",
   "execution_count": 1,
   "id": "daaab11d-bbb7-4e51-8940-500d4059137b",
   "metadata": {},
   "outputs": [
    {
     "name": "stdout",
     "output_type": "stream",
     "text": [
      "4\n"
     ]
    }
   ],
   "source": [
    "square=lambda x:x**2\n",
    "print(square(2))"
   ]
  },
  {
   "cell_type": "markdown",
   "id": "64684b1e-3dd8-46de-9b94-6e3894d2a545",
   "metadata": {},
   "source": [
    "example 2:"
   ]
  },
  {
   "cell_type": "markdown",
   "id": "828b92cc-3f56-43c7-8ef9-f096b427fc38",
   "metadata": {},
   "source": [
    "add=lambda x,y:x+y\n",
    "print(add(3,4))"
   ]
  },
  {
   "cell_type": "markdown",
   "id": "06f2b278-1df3-4aaa-a9a3-6f7f8a874b9c",
   "metadata": {},
   "source": [
    "Difference between normal function and lambda function:"
   ]
  },
  {
   "cell_type": "code",
   "execution_count": 2,
   "id": "d383ec2b-a68d-4b90-8ee1-3dfee341de75",
   "metadata": {},
   "outputs": [
    {
     "name": "stdout",
     "output_type": "stream",
     "text": [
      "7\n",
      "7\n"
     ]
    }
   ],
   "source": [
    "# Normal function\n",
    "def add(x,y):\n",
    "    return x+y\n",
    "sum=add(3,4)\n",
    "print(sum)\n",
    "\n",
    "# lambda fucntion\n",
    "add_lambda=lambda x,y:x+y\n",
    "print(add_lambda(3,4))"
   ]
  },
  {
   "cell_type": "markdown",
   "id": "215094ed-7639-4160-a7ed-8385db4c2d2a",
   "metadata": {},
   "source": [
    "**Map()**"
   ]
  },
  {
   "cell_type": "markdown",
   "id": "94191309-206d-4fb6-86b6-38a4e02faa2e",
   "metadata": {},
   "source": [
    "It applies a given function(generally lambda) to each item in an iterable and returns a new iterable containing the result."
   ]
  },
  {
   "cell_type": "markdown",
   "id": "c550b3d4-b1df-42f7-87be-ebd6d73cb5a3",
   "metadata": {},
   "source": [
    "Syntax:<br>map(function ,iterable)"
   ]
  },
  {
   "cell_type": "markdown",
   "id": "8d9309f5-4d98-4135-a120-9e198683caed",
   "metadata": {},
   "source": [
    "example:"
   ]
  },
  {
   "cell_type": "code",
   "execution_count": 3,
   "id": "79818231-d25c-4179-834a-923d4b1c3967",
   "metadata": {},
   "outputs": [
    {
     "name": "stdout",
     "output_type": "stream",
     "text": [
      "[1, 4, 9, 16]\n"
     ]
    }
   ],
   "source": [
    "numbers=[1,2,3,4]\n",
    "\n",
    "squares=list(map(lambda x:x**2,numbers))\n",
    "\n",
    "print(squares)"
   ]
  },
  {
   "cell_type": "markdown",
   "id": "18122c7f-4b6d-4e2e-a814-f8b3339439e3",
   "metadata": {},
   "source": [
    "✅ Use case: Transform all items in a list."
   ]
  },
  {
   "cell_type": "markdown",
   "id": "e636a2e5-b7a2-40b7-888d-94f404f4c73d",
   "metadata": {},
   "source": [
    "**filter()**"
   ]
  },
  {
   "cell_type": "markdown",
   "id": "0faec3c2-0f27-46c8-9d7c-822fff50f82b",
   "metadata": {},
   "source": [
    "Filters elements from an iterable based on a condition (returns True/False)."
   ]
  },
  {
   "cell_type": "markdown",
   "id": "83fa7f3c-a9f6-483c-bafd-44f559305865",
   "metadata": {},
   "source": [
    "syntax:<br>\n",
    "filter(function,iterable)"
   ]
  },
  {
   "cell_type": "markdown",
   "id": "e29d7ca9-e497-4422-b4a2-3561bd3fdc45",
   "metadata": {},
   "source": [
    "example:"
   ]
  },
  {
   "cell_type": "code",
   "execution_count": 4,
   "id": "f4a79671-7120-49b5-95fc-1180e73c055c",
   "metadata": {},
   "outputs": [
    {
     "name": "stdout",
     "output_type": "stream",
     "text": [
      "[2, 4, 6]\n"
     ]
    }
   ],
   "source": [
    "numbers=[1,2,3,4,5,6]\n",
    "\n",
    "evens=list(filter(lambda x:x%2==0,numbers))\n",
    "print(evens)"
   ]
  },
  {
   "cell_type": "markdown",
   "id": "d663ef1a-2ea1-4734-a6c4-89a1b0a11f5c",
   "metadata": {},
   "source": [
    "✅ Use case: Extract elements that satisfy a condition."
   ]
  },
  {
   "cell_type": "markdown",
   "id": "737b7d19-8efb-40bc-934e-43f3b75f3fd2",
   "metadata": {},
   "source": [
    "**reduce()**"
   ]
  },
  {
   "cell_type": "markdown",
   "id": "93db6260-23ac-4f56-a5b9-2b43f17cf1f5",
   "metadata": {},
   "source": [
    "applies a function cumulatively to the items of an iterable, from left to right, to reduce it to a single value."
   ]
  },
  {
   "cell_type": "markdown",
   "id": "80dd2b48-b87c-44e2-84df-917b3fe14deb",
   "metadata": {},
   "source": [
    "syntax:<br>\n",
    "from functools import reduce<br>\n",
    "reduce(function,iterable)\n"
   ]
  },
  {
   "cell_type": "markdown",
   "id": "d2df170e-6e53-4818-94ca-982925255e7b",
   "metadata": {},
   "source": [
    "example:"
   ]
  },
  {
   "cell_type": "code",
   "execution_count": 5,
   "id": "7ac0a01d-092c-41fa-9d46-d9b658b130cc",
   "metadata": {},
   "outputs": [
    {
     "name": "stdout",
     "output_type": "stream",
     "text": [
      "15\n"
     ]
    }
   ],
   "source": [
    "from functools import reduce\n",
    "\n",
    "numbers=[1,2,3,4,5]\n",
    "total=reduce(lambda x,y:x+y,numbers)\n",
    "print(total)"
   ]
  },
  {
   "cell_type": "markdown",
   "id": "41a36adb-8511-41de-9918-fa05747a5b93",
   "metadata": {},
   "source": [
    "✅ Use case: Combine all elements into one (like sum, product, concatenation, etc.)"
   ]
  },
  {
   "cell_type": "markdown",
   "id": "682a2c7b-fe31-431f-a51f-37582ab58059",
   "metadata": {},
   "source": [
    "**Combined Example**"
   ]
  },
  {
   "cell_type": "code",
   "execution_count": 6,
   "id": "db4de883-0e34-4bda-94e7-55d57cc440c7",
   "metadata": {},
   "outputs": [
    {
     "name": "stdout",
     "output_type": "stream",
     "text": [
      "56\n"
     ]
    }
   ],
   "source": [
    "from functools import reduce\n",
    "\n",
    "numbers = [1, 2, 3, 4, 5, 6]\n",
    "\n",
    "# Step 1: Filter even numbers → [2, 4, 6]\n",
    "# Step 2: Square them → [4, 16, 36]\n",
    "# Step 3: Sum all → 56\n",
    "result = reduce(\n",
    "    lambda x, y: x + y,\n",
    "    map(lambda x: x ** 2, filter(lambda x: x % 2 == 0, numbers))\n",
    ")\n",
    "\n",
    "print(result)  # Output: 56"
   ]
  }
 ],
 "metadata": {
  "kernelspec": {
   "display_name": "Python 3 (ipykernel)",
   "language": "python",
   "name": "python3"
  },
  "language_info": {
   "codemirror_mode": {
    "name": "ipython",
    "version": 3
   },
   "file_extension": ".py",
   "mimetype": "text/x-python",
   "name": "python",
   "nbconvert_exporter": "python",
   "pygments_lexer": "ipython3",
   "version": "3.13.7"
  }
 },
 "nbformat": 4,
 "nbformat_minor": 5
}
