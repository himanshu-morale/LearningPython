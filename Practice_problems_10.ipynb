{
 "cells": [
  {
   "cell_type": "markdown",
   "id": "e87cee75-8a39-45ef-99ad-0affbfa041ad",
   "metadata": {},
   "source": [
    "# 🟢 Level 1 – Basics: Classes and Objects"
   ]
  },
  {
   "cell_type": "code",
   "execution_count": 1,
   "id": "b66b659d-eab6-4900-82dc-ada840d26050",
   "metadata": {},
   "outputs": [
    {
     "name": "stdout",
     "output_type": "stream",
     "text": [
      "Name:Himanshu , Age:20 , Marks:98\n",
      "Name:Anshul , Age:20 , Marks:10\n"
     ]
    }
   ],
   "source": [
    "# 1️⃣ Create a Class for Student\n",
    "\n",
    "# Create a class Student with attributes name, age, and marks.\n",
    "# Write a method display() to print the details of a student.\n",
    "# Create 2 objects and display their details.\n",
    "\n",
    "class Student:\n",
    "    def __init__(self,name:str,age:int,marks:int):\n",
    "        self.name=name\n",
    "        self.age=age\n",
    "        self.marks=marks\n",
    "    def display(self):\n",
    "        print(f\"Name:{self.name} , Age:{self.age} , Marks:{self.marks}\")\n",
    "stud1=Student(\"Himanshu\",20,98)\n",
    "stud2=Student(\"Anshul\",20,10)\n",
    "stud1.display()\n",
    "stud2.display()"
   ]
  },
  {
   "cell_type": "code",
   "execution_count": 5,
   "id": "3da84ae0-b6c0-40ec-8ef3-a7db8332feaf",
   "metadata": {},
   "outputs": [
    {
     "name": "stdout",
     "output_type": "stream",
     "text": [
      "Current Balance:$100\n",
      "Deposited $400. Current Balance:$500 \n",
      "Current Balance:$500\n",
      "Withdrawn $300. Current Balance:$200 \n",
      "Current Balance:$200\n",
      "Balance cannot go below zero\n"
     ]
    }
   ],
   "source": [
    "# 2️⃣ Bank Account\n",
    "\n",
    "# Create a class BankAccount with:\n",
    "# attributes: account_number, balance\n",
    "# methods: deposit(amount), withdraw(amount), display_balance()\n",
    "# Ensure the balance cannot go below zero.\n",
    "\n",
    "class BankAccount:\n",
    "    def __init__(self,account_number,balance=0):\n",
    "        self.account_number=account_number\n",
    "        self.balance=balance\n",
    "    def deposit(self,amount):\n",
    "        self.balance+=amount\n",
    "        print(f\"Deposited ${amount}. Current Balance:${self.balance} \")\n",
    "    def withdraw(self,amount):\n",
    "        if (self.balance-amount)<0:\n",
    "            print(\"Balance cannot go below zero\")\n",
    "        else:\n",
    "            self.balance-=amount\n",
    "            print(f\"Withdrawn ${amount}. Current Balance:${self.balance} \")\n",
    "    def display_balance(self):\n",
    "        print(f\"Current Balance:${self.balance}\")\n",
    "user1=BankAccount(\"XYZ\",100)\n",
    "user1.display_balance()\n",
    "user1.deposit(400)\n",
    "user1.withdraw(300)\n",
    "user1.display_balance()\n",
    "user1.withdraw(300)"
   ]
  },
  {
   "cell_type": "code",
   "execution_count": 6,
   "id": "68b1fbac-9efd-4d14-9ef1-341cc9358109",
   "metadata": {},
   "outputs": [
    {
     "name": "stdin",
     "output_type": "stream",
     "text": [
      "Enter first number:  10\n",
      "Enter second number:  5\n"
     ]
    },
    {
     "name": "stdout",
     "output_type": "stream",
     "text": [
      "15\n",
      "5\n",
      "50\n",
      "2.0\n"
     ]
    }
   ],
   "source": [
    "# 3️⃣ Calculator Class\n",
    "\n",
    "# Create a class Calculator with methods for addition, subtraction, multiplication, and division.\n",
    "# Use user input to perform calculations.\n",
    "\n",
    "class Calculator:\n",
    "    def __init__(self,a,b):\n",
    "        self.a=a\n",
    "        self.b=b\n",
    "    def add(self,a,b):\n",
    "        return a+b\n",
    "    def sub(self,a,b):\n",
    "        return a-b\n",
    "    def mul(self,a,b):\n",
    "        return a*b\n",
    "    def div(self,a,b):\n",
    "        if b!=0:\n",
    "            return a/b\n",
    "        else:\n",
    "            return \"Division by Zero not allowed\"\n",
    "num1=int(input(\"Enter first number: \"))\n",
    "num2=int(input(\"Enter second number: \"))\n",
    "cal=Calculator(num1,num2)\n",
    "print(cal.add(num1,num2))\n",
    "print(cal.sub(num1,num2))\n",
    "print(cal.mul(num1,num2))\n",
    "print(cal.div(num1,num2))"
   ]
  },
  {
   "cell_type": "code",
   "execution_count": 9,
   "id": "0965d8f6-8de0-48ad-8895-745207787ccb",
   "metadata": {},
   "outputs": [
    {
     "name": "stdout",
     "output_type": "stream",
     "text": [
      "Area of rect1:  50\n",
      "Perimeter of rect1:  30\n"
     ]
    }
   ],
   "source": [
    "# 4️⃣ Rectangle Class\n",
    "\n",
    "# Create a class Rectangle with attributes length and width, and methods to calculate:\n",
    "# area\n",
    "# perimeter\n",
    "# Then create objects and display the results.\n",
    "\n",
    "class Rectangle:\n",
    "    def __init__(self,length:int,width:int):\n",
    "        self.length=length\n",
    "        self.width=width\n",
    "    def area(self):\n",
    "        return self.length*self.width\n",
    "    def perimeter(self):\n",
    "        return 2*(self.length+self.width)\n",
    "rect1=Rectangle(10,5)\n",
    "print(\"Area of rect1: \",rect1.area())\n",
    "print(\"Perimeter of rect1: \",rect1.perimeter())"
   ]
  },
  {
   "cell_type": "code",
   "execution_count": 11,
   "id": "b81e327b-8b59-452d-884e-f300e934d04b",
   "metadata": {},
   "outputs": [
    {
     "name": "stdout",
     "output_type": "stream",
     "text": [
      "Name: Himanshu, Position: Manager, Salary: $1000\n",
      "Himanshu has been promoted to General Manager with salary $2000\n",
      "Name: Himanshu, Position: General Manager, Salary: $2000\n"
     ]
    }
   ],
   "source": [
    "# 5️⃣ Employee Details\n",
    "\n",
    "# Create an Employee class with name, position, and salary.\n",
    "# Include a method promote(new_position, new_salary) to update the details.\n",
    "\n",
    "class Employee:\n",
    "    def __init__(self,name:str,position:str,salary:int):\n",
    "        self.name=name\n",
    "        self.position=position\n",
    "        self.salary= salary\n",
    "    def display(self):\n",
    "        print(f\"Name: {self.name}, Position: {self.position}, Salary: ${self.salary}\")\n",
    "    def promote(self,new_position:str,new_salary:int):\n",
    "        self.position=new_position\n",
    "        self.salary=new_salary\n",
    "        print(f\"{self.name} has been promoted to {self.position} with salary ${self.salary}\")\n",
    "emp1=Employee(\"Himanshu\",\"Manager\",1000)\n",
    "emp1.display()\n",
    "emp1.promote(\"General Manager\",2000)\n",
    "emp1.display()"
   ]
  },
  {
   "cell_type": "markdown",
   "id": "707404e4-62b8-4ca3-875e-078dd80725c0",
   "metadata": {},
   "source": [
    "# 🟡 Level 2 – Inheritance"
   ]
  },
  {
   "cell_type": "code",
   "execution_count": 12,
   "id": "be9914c2-7684-40ad-83c0-7d2d3054c1b0",
   "metadata": {},
   "outputs": [
    {
     "name": "stdout",
     "output_type": "stream",
     "text": [
      "This is a parent class\n",
      "This is a child class\n"
     ]
    }
   ],
   "source": [
    "# 6️⃣ Single Inheritance\n",
    "\n",
    "# Create two classes:\n",
    "# Parent with a method show_parent()\n",
    "# Child that inherits from Parent and has show_child()\n",
    "# Create an object of Child and call both methods.\n",
    "\n",
    "class Parent:\n",
    "    def show_parent(self):\n",
    "        print(\"This is a parent class\")\n",
    "class Child(Parent):\n",
    "    def show_child(self):\n",
    "        print(\"This is a child class\")\n",
    "child1=Child()\n",
    "child1.show_parent()\n",
    "child1.show_child()"
   ]
  },
  {
   "cell_type": "code",
   "execution_count": 21,
   "id": "3ba8e882-6111-4864-ad05-7d1acfdb96b4",
   "metadata": {},
   "outputs": [
    {
     "name": "stdout",
     "output_type": "stream",
     "text": [
      "Name:Himanshu, Age:20, Salary:$1000\n"
     ]
    }
   ],
   "source": [
    "# 7️⃣ Multiple Inheritance\n",
    "\n",
    "# Create classes Person and Employee.\n",
    "# Person has name and age, Employee has salary.\n",
    "# Create a derived class Manager that inherits both and displays all details.\n",
    "class Person:\n",
    "    def __init__(self,name,age):\n",
    "        self.name=name\n",
    "        self.age=age\n",
    "class Employee:\n",
    "    def __init__(self,salary):\n",
    "        self.salary=salary\n",
    "class Manager(Person,Employee):\n",
    "    def __init__(self,name,age,salary):\n",
    "        Person.__init__(self,name,age)\n",
    "        Employee.__init__(self,salary)\n",
    "    def display(self):\n",
    "        print(f\"Name:{self.name}, Age:{self.age}, Salary:${self.salary}\")\n",
    "\n",
    "# per1=Person(\"Himanshu\",20)\n",
    "# emp1=Employee(1000)\n",
    "m1=Manager(\"Himanshu\",20,1000)\n",
    "m1.display()"
   ]
  },
  {
   "cell_type": "code",
   "execution_count": 28,
   "id": "23ffcd66-1df2-48fb-9ab2-39a024ae22fd",
   "metadata": {},
   "outputs": [
    {
     "name": "stdout",
     "output_type": "stream",
     "text": [
      "vroom vroom! Car Engine Started\n",
      "This car uses Petrol or Deisel\n",
      "Battery Capacity is 75 kWh\n"
     ]
    }
   ],
   "source": [
    "# 8️⃣ Multilevel Inheritance\n",
    "\n",
    "# Create classes Vehicle → Car → ElectricCar.\n",
    "# Each class should have its own method:\n",
    "# Vehicle: start_engine()\n",
    "# Car: fuel_type()\n",
    "# ElectricCar: battery_capacity()\n",
    "# Create an object of ElectricCar and call all methods.\n",
    "\n",
    "class Vehicle:\n",
    "    def start_engine(self):\n",
    "        print(\"vroom vroom! Car Engine Started\")\n",
    "class Car(Vehicle):\n",
    "    def fuel_type(self):\n",
    "        print(\"This car uses Petrol or Deisel\")\n",
    "class ElectricCar(Car):\n",
    "    def battery_capacity(self):\n",
    "        print(\"Battery Capacity is 75 kWh\")\n",
    "ev=ElectricCar()\n",
    "ev.start_engine()\n",
    "ev.fuel_type()\n",
    "ev.battery_capacity()"
   ]
  },
  {
   "cell_type": "code",
   "execution_count": 32,
   "id": "b8ef65de-91fe-4007-b48b-d97f3c216d17",
   "metadata": {},
   "outputs": [
    {
     "name": "stdout",
     "output_type": "stream",
     "text": [
      "Area of Circle 1: 28.26\n",
      "Area of Square 1: 16\n",
      "Area of Triangle 1: 15.0\n"
     ]
    }
   ],
   "source": [
    "# 9️⃣ Hierarchical Inheritance\n",
    "\n",
    "# Create a base class Shape and subclasses Circle, Square, Triangle.\n",
    "# Each subclass should have its own area() method.\n",
    "# Demonstrate how each subclass works independently.\n",
    "\n",
    "class Shape:\n",
    "    def area(self):\n",
    "        pass\n",
    "class Circle(Shape):\n",
    "    def __init__(self,radius):\n",
    "        self.radius=radius\n",
    "    def area(self):\n",
    "        return 3.14*(self.radius**2)\n",
    "class Square(Shape):\n",
    "    def __init__(self,side):\n",
    "        self.side=side\n",
    "    def area(self):\n",
    "        return self.side**2\n",
    "class Triangle(Shape):\n",
    "    def __init__(self,base,height):\n",
    "        self.base=base\n",
    "        self.height=height\n",
    "    def area(self):\n",
    "        return 0.5*self.base*self.height\n",
    "c1=Circle(3)\n",
    "print(\"Area of Circle 1:\",c1.area())\n",
    "s1=Square(4)\n",
    "print(\"Area of Square 1:\",s1.area())\n",
    "t1=Triangle(5,6)\n",
    "print(\"Area of Triangle 1:\",t1.area())"
   ]
  },
  {
   "cell_type": "code",
   "execution_count": 38,
   "id": "138e0475-c4ad-42ab-bd1a-e0d443c6b7cc",
   "metadata": {},
   "outputs": [
    {
     "name": "stdout",
     "output_type": "stream",
     "text": [
      "Name: Himanshu, Age: 20, Roll No: 43, Marks: 90\n"
     ]
    }
   ],
   "source": [
    "# 🔟 Constructor Overriding\n",
    "\n",
    "# Create a parent class Person and child class Student.\n",
    "# Override the constructor in Student to include additional parameters like roll_no and marks.\n",
    "\n",
    "class Person:\n",
    "    def __init__(self,name,age):\n",
    "        self.name=name\n",
    "        self.age=age\n",
    "class Student(Person):\n",
    "    def __init__(self,name,age,roll,marks):\n",
    "        super().__init__(name,age)\n",
    "        self.roll=roll\n",
    "        self.marks=marks\n",
    "    def display(self):\n",
    "        print(f\"Name: {self.name}, Age: {self.age}, Roll No: {self.roll}, Marks: {self.marks}\")\n",
    "stud1=Student(\"Himanshu\",20,43,90)\n",
    "stud1.display()"
   ]
  },
  {
   "cell_type": "markdown",
   "id": "93ab50ba-7ad7-4406-8ac2-6a0ad4604e7b",
   "metadata": {},
   "source": [
    "# 🔵 Level 3 – Encapsulation"
   ]
  },
  {
   "cell_type": "code",
   "execution_count": 41,
   "id": "c45784b9-0ffb-45ee-81a4-847d2db05a61",
   "metadata": {
    "scrolled": true
   },
   "outputs": [
    {
     "name": "stdout",
     "output_type": "stream",
     "text": [
      "Owner:Himanshu, Current Balance:$1000\n",
      "Deposited $1000. Current Balance:$2000\n",
      "Withdrawn $500. Current Balance:$1500\n"
     ]
    }
   ],
   "source": [
    "# 11️⃣ Private Attributes\n",
    "\n",
    "# Create a class Account with a private attribute __balance.\n",
    "# Add methods to:\n",
    "\n",
    "# Deposit money\n",
    "# Withdraw money\n",
    "# Display balance (only via a public method)\n",
    "# 🧩 Hint: Access private variables using getter/setter methods.\n",
    "class Account:\n",
    "    def __init__(self,owner,balance):\n",
    "        self.owner=owner\n",
    "        self.__balance=balance\n",
    "    def deposit(self,amount):\n",
    "        self.__balance+=amount\n",
    "        print(f\"Deposited ${amount}. Current Balance:${self.__balance}\")\n",
    "    def withdraw(self,amount):\n",
    "        if amount<self.__balance:\n",
    "            self.__balance-=amount\n",
    "            print(f\"Withdrawn ${amount}. Current Balance:${self.__balance}\")\n",
    "        else:\n",
    "            print(\"Insufficient balance\")\n",
    "    def get_balance(self):\n",
    "        return self.__balance\n",
    "acc1=Account(\"Himanshu\",1000)\n",
    "print(f\"Owner:{acc1.owner}, Current Balance:${acc1.get_balance()}\")\n",
    "acc1.deposit(1000)\n",
    "acc1.withdraw(500)"
   ]
  },
  {
   "cell_type": "code",
   "execution_count": 6,
   "id": "4ffa6916-f5fd-4205-ac71-00aef7a15dc0",
   "metadata": {},
   "outputs": [
    {
     "name": "stdout",
     "output_type": "stream",
     "text": [
      "Company:HCL,Total Revenue:$100000\n",
      "Company:HCL,Branch:Mumbai,Branch Revenue:$250000\n"
     ]
    }
   ],
   "source": [
    "# 12️⃣ Protected Attributes\n",
    "\n",
    "# Create a class Company with protected attribute _revenue.\n",
    "# Derive a subclass Branch that modifies _revenue and displays it.\n",
    "class Company:\n",
    "    def __init__(self,name,revenue):\n",
    "        self.name=name\n",
    "        self._revenue=revenue\n",
    "    def company_revenue(self):\n",
    "        print(f\"Company:{self.name},Total Revenue:${self._revenue}\")\n",
    "class Branch(Company):\n",
    "    def __init__(self,name,revenue,branch_name):\n",
    "        super().__init__(name,revenue)\n",
    "        self.branch_name=branch_name\n",
    "    def set_revenue(self,amount):\n",
    "        self._revenue=amount\n",
    "        return self._revenue\n",
    "    def branch_revenue(self):\n",
    "        print(f\"Company:{self.name},Branch:{self.branch_name},Branch Revenue:${self._revenue}\")\n",
    "\n",
    "b1=Branch(\"HCL\",100000,\"Mumbai\")\n",
    "b1.company_revenue()\n",
    "b1.set_revenue(250000)\n",
    "b1.branch_revenue()"
   ]
  },
  {
   "cell_type": "code",
   "execution_count": 14,
   "id": "27944499-1567-4994-bc7b-4ff9f0c94cc2",
   "metadata": {},
   "outputs": [
    {
     "name": "stdout",
     "output_type": "stream",
     "text": [
      "Name:Himanshu,Marks:78\n",
      "Name:Himanshu,Marks:95\n",
      "Invalid Marks\n",
      "Name:Himanshu,Marks:95\n"
     ]
    }
   ],
   "source": [
    "# 13️⃣ Student Data Validation\n",
    "\n",
    "# Create a Student class with private attributes __name and __marks.\n",
    "# Ensure marks can only be between 0–100 using setter methods.\n",
    "\n",
    "class Student:\n",
    "    def __init__(self,name,marks):\n",
    "        self.__name=name\n",
    "        self.__marks=marks\n",
    "        self.set_marks(marks)\n",
    "    def set_marks(self,marks):\n",
    "        if marks in range(0,101):\n",
    "            self.__marks=marks\n",
    "        else:\n",
    "            print(\"Invalid Marks\")\n",
    "    def get_marks(self):\n",
    "        return self.__marks\n",
    "    def get_name(self):\n",
    "        return self.__name\n",
    "    def display(self):\n",
    "        print(f\"Name:{self.__name},Marks:{self.__marks}\")\n",
    "stud1=Student(\"Himanshu\",78)\n",
    "stud1.display()\n",
    "stud1.set_marks(95)\n",
    "stud1.display()\n",
    "stud1.set_marks(105)\n",
    "stud1.display()"
   ]
  },
  {
   "cell_type": "markdown",
   "id": "f7ff844a-f01a-4b2d-853b-d45b9edf14a4",
   "metadata": {},
   "source": [
    "# 🔴 Level 4 – Abstraction (Using abc module)"
   ]
  },
  {
   "cell_type": "code",
   "execution_count": 21,
   "id": "59fbe7f9-431f-418f-a65b-f50376c50b6c",
   "metadata": {},
   "outputs": [
    {
     "name": "stdout",
     "output_type": "stream",
     "text": [
      "Area of Circle 1: 28.26\n",
      "Area of Square 1: 16\n",
      "Area of Rectangle 1: 30\n"
     ]
    }
   ],
   "source": [
    "# 14️⃣ Shape Area (Abstract Class)\n",
    "\n",
    "# Create an abstract class Shape with abstract method area().\n",
    "# Subclasses: Circle, Square, Rectangle — each implementing area() differently.\n",
    "\n",
    "from abc import ABC,abstractmethod\n",
    "\n",
    "class Shape(ABC):\n",
    "    @abstractmethod\n",
    "    def area(self):\n",
    "        pass\n",
    "class Circle(Shape):\n",
    "    def __init__(self,radius):\n",
    "        self.radius=radius\n",
    "    def area(self):\n",
    "        return 3.14*(self.radius**2)\n",
    "class Square(Shape):\n",
    "    def __init__(self,side):\n",
    "        self.side=side\n",
    "    def area(self):\n",
    "        return self.side**2\n",
    "class Rectangle(Shape):\n",
    "    def __init__(self,length,breadth):\n",
    "        self.length=length\n",
    "        self.breadth=breadth\n",
    "    def area(self):\n",
    "        return self.length*self.breadth\n",
    "c1=Circle(3)\n",
    "print(\"Area of Circle 1:\",c1.area())\n",
    "s1=Square(4)\n",
    "print(\"Area of Square 1:\",s1.area())\n",
    "r1=Rectangle(5,6)\n",
    "print(\"Area of Rectangle 1:\",r1.area())"
   ]
  },
  {
   "cell_type": "code",
   "execution_count": 31,
   "id": "df02ed22-7ecc-4af2-aaeb-577aeac62435",
   "metadata": {},
   "outputs": [
    {
     "name": "stdout",
     "output_type": "stream",
     "text": [
      "processing payment of $1500 from credit card\n",
      "processing payment of $1500 from UPI\n",
      "processing payment of $1500 from Wallet\n"
     ]
    }
   ],
   "source": [
    "# 15️⃣ Payment System\n",
    "\n",
    "# Create an abstract class Payment with an abstract method make_payment().\n",
    "# Subclasses: CreditCardPayment, UPIPayment, WalletPayment.\n",
    "# Each implements the method differently (e.g., “Processing via Credit Card”).\n",
    "\n",
    "from abc import ABC,abstractmethod\n",
    "\n",
    "class Payment(ABC):\n",
    "    @abstractmethod\n",
    "    def make_payment(self,amount):\n",
    "        pass\n",
    "class CreditCardPayment(Payment):\n",
    "    def make_payment(self,amount):\n",
    "        print(f\"processing payment of ${amount} from credit card\")\n",
    "class UPIPayment(Payment):\n",
    "    def make_payment(self,amount):\n",
    "        print(f\"processing payment of ${amount} from UPI\")\n",
    "class WalletPayment(Payment):\n",
    "    def make_payment(self,amount):\n",
    "        print(f\"processing payment of ${amount} from Wallet\")\n",
    "\n",
    "payments=[CreditCardPayment(),UPIPayment(),WalletPayment()]\n",
    "for pay in payments:\n",
    "    pay.make_payment(1500)"
   ]
  },
  {
   "cell_type": "code",
   "execution_count": 33,
   "id": "33445deb-f107-49c8-84b0-fb39d531f4e1",
   "metadata": {},
   "outputs": [
    {
     "name": "stdout",
     "output_type": "stream",
     "text": [
      "\n",
      "Bike:\n",
      "Vroom Vroom! Bike is started\n",
      "Bike stopped\n",
      "\n",
      "Car:\n",
      "ratatata! Car is started\n",
      "Car stopped\n",
      "\n",
      "Bus:\n",
      "Hisss! Bus is started\n",
      "Bus stopped\n"
     ]
    }
   ],
   "source": [
    "# 16️⃣ Vehicle Abstraction\n",
    "\n",
    "# Create an abstract class Vehicle with abstract methods start() and stop().\n",
    "# Subclasses: Bike, Bus, and Car implement them differently.\n",
    "\n",
    "from abc import ABC,abstractmethod\n",
    "class vehicle(ABC):\n",
    "    @abstractmethod\n",
    "    def start(self):\n",
    "        pass\n",
    "    @abstractmethod\n",
    "    def stop(self):\n",
    "        pass\n",
    "class Bike(vehicle):\n",
    "    def start(self):\n",
    "        print(\"Vroom Vroom! Bike is started\")\n",
    "    def stop(self):\n",
    "        print(\"Bike stopped\")\n",
    "class Car(vehicle):\n",
    "    def start(self):\n",
    "        print(\"ratatata! Car is started\")\n",
    "    def stop(self):\n",
    "        print(\"Car stopped\")        \n",
    "class Bus(vehicle):\n",
    "    def start(self):\n",
    "        print(\"Hisss! Bus is started\")\n",
    "    def stop(self):\n",
    "        print(\"Bus stopped\")    \n",
    "vehicles=[Bike(),Car(),Bus()]\n",
    "for v in vehicles:\n",
    "    print(f\"\\n{v.__class__.__name__}:\")\n",
    "    v.start()\n",
    "    v.stop()"
   ]
  },
  {
   "cell_type": "markdown",
   "id": "5c1a00e6-4991-4b1e-b041-2f95d27b169c",
   "metadata": {},
   "source": [
    "# 🟣 Level 5 – Polymorphism"
   ]
  },
  {
   "cell_type": "code",
   "execution_count": 37,
   "id": "e16fb70f-0472-4d0b-96da-4d90662eed7f",
   "metadata": {},
   "outputs": [
    {
     "name": "stdout",
     "output_type": "stream",
     "text": [
      "Dog Barks\n",
      "Cat Barks\n",
      "Cow growls\n"
     ]
    }
   ],
   "source": [
    "# 17️⃣ Animal Sounds\n",
    "\n",
    "# Create a base class Animal with a method sound().\n",
    "# Subclasses Dog, Cat, and Cow override it differently.\n",
    "# Loop through all animals and call sound().\n",
    "\n",
    "class Animal:\n",
    "    def sound(self):\n",
    "        print(\"Animal makes Sound\")\n",
    "class Dog(Animal):\n",
    "    def sound(self):\n",
    "        print(\"Dog Barks\")\n",
    "class Cat(Animal):\n",
    "    def sound(self):\n",
    "        print(\"Cat Barks\")\n",
    "class Cow(Animal):\n",
    "    def sound(self):\n",
    "        print(\"Cow growls\")\n",
    "animals=[Dog(),Cat(),Cow()]\n",
    "for animal in animals:\n",
    "    animal.sound()"
   ]
  },
  {
   "cell_type": "code",
   "execution_count": 35,
   "id": "4ad27527-0eec-459f-97ae-41d072b2d70a",
   "metadata": {},
   "outputs": [
    {
     "name": "stdout",
     "output_type": "stream",
     "text": [
      "(3, 7)\n"
     ]
    }
   ],
   "source": [
    "# 18️⃣ Operator Overloading\n",
    "\n",
    "# Create a class Point that stores x and y.\n",
    "# Overload the + operator to add two points and return a new one.\n",
    "class Point:\n",
    "    def __init__(self,x,y):\n",
    "        self.x=x\n",
    "        self.y=y\n",
    "    def __add__(self,other):\n",
    "        return Point(self.x+other.x,self.y+other.y)\n",
    "    def __str__(self):\n",
    "        return f\"({self.x}, {self.y})\"\n",
    "p1=Point(1,4)\n",
    "p2=Point(2,3)\n",
    "p3=p1+p2\n",
    "print(p3)"
   ]
  },
  {
   "cell_type": "code",
   "execution_count": 38,
   "id": "6c59447c-d522-458a-9e4a-62374aab52a4",
   "metadata": {},
   "outputs": [
    {
     "name": "stdout",
     "output_type": "stream",
     "text": [
      "Car moves\n",
      "Boat moves\n",
      "Plane moves\n"
     ]
    }
   ],
   "source": [
    "# 19️⃣ Duck Typing Example\n",
    "\n",
    "# Create classes Car, Boat, and Plane — each with move() method.\n",
    "# Write a function start_journey(vehicle) that calls vehicle.move().\n",
    "# Demonstrate duck typing.\n",
    "\n",
    "class Car:\n",
    "    def move(self):\n",
    "        print(\"Car moves\")\n",
    "class Boat:\n",
    "    def move(self):\n",
    "        print(\"Boat moves\")\n",
    "class Plane:\n",
    "    def move(self):\n",
    "        print(\"Plane moves\")\n",
    "def start_journey(vehicle):\n",
    "    vehicle.move()\n",
    "\n",
    "vehicles=[Car(),Boat(),Plane()]\n",
    "for vehicle in vehicles:\n",
    "    start_journey(vehicle)"
   ]
  },
  {
   "cell_type": "code",
   "execution_count": 45,
   "id": "bd588644-f32c-4747-ae79-38392a8a2288",
   "metadata": {},
   "outputs": [
    {
     "name": "stdout",
     "output_type": "stream",
     "text": [
      "Employee name:Himanshu, Role:Manager, Bonus:100.0\n",
      "Employee name:Anshul, Role:Developer, Bonus:200.0\n",
      "Employee name:Harsh, Role:Intern, Bonus:50.0\n"
     ]
    }
   ],
   "source": [
    "# 20️⃣ Employee Bonus (Polymorphism)\n",
    "\n",
    "# Create a base class Employee with calculate_bonus() method.\n",
    "# Subclasses:\n",
    "\n",
    "# Manager → 20% bonus\n",
    "# Developer → 10% bonus\n",
    "# Intern → 5% bonus\n",
    "# Use a loop to calculate each employee’s bonus using the same function.\n",
    "\n",
    "class Employee:\n",
    "    def __init__(self,name,salary):\n",
    "        self.name=name\n",
    "        self.salary=salary\n",
    "    def calculate_bonus(self):\n",
    "        pass\n",
    "class Manager(Employee):\n",
    "    def calculate_bonus(self):\n",
    "        return 0.10*self.salary\n",
    "class Developer(Employee):\n",
    "    def calculate_bonus(self):\n",
    "        return 0.20*self.salary\n",
    "class Intern(Employee):\n",
    "    def calculate_bonus(self):\n",
    "        return 0.05*self.salary\n",
    "employees=[Manager(\"Himanshu\",1000),Developer(\"Anshul\",1000),Intern(\"Harsh\",1000)]\n",
    "for emp in employees:\n",
    "    print(f\"Employee name:{emp.name}, Role:{emp.__class__.__name__}, Bonus:{emp.calculate_bonus()}\")"
   ]
  }
 ],
 "metadata": {
  "kernelspec": {
   "display_name": "Python 3 (ipykernel)",
   "language": "python",
   "name": "python3"
  },
  "language_info": {
   "codemirror_mode": {
    "name": "ipython",
    "version": 3
   },
   "file_extension": ".py",
   "mimetype": "text/x-python",
   "name": "python",
   "nbconvert_exporter": "python",
   "pygments_lexer": "ipython3",
   "version": "3.13.7"
  }
 },
 "nbformat": 4,
 "nbformat_minor": 5
}
