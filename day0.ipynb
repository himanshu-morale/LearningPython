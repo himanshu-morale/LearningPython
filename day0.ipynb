{
 "cells": [
  {
   "cell_type": "markdown",
   "id": "522fce20-9738-4fd6-947f-990665bc17e4",
   "metadata": {},
   "source": [
    " day 1: first program ,comments ,escape sequence, print statement <br>\n",
    " day 2: variables and data types, operators, type casting <br>\n",
    " day 3: user input,strings: indexing, slicing, operations, methods <br>\n",
    " day 4: conditional statements: if else, if elif else, nested if else <br>\n",
    " day 5: Loops: for loop, while loop; break, continue, pass <br>\n",
    " day 6: Functions and scope (practice problems-4)<br>\n",
    " day 7: Lists<br>\n",
    " day 8: Tuple<br>\n",
    " day 9: Sets<br>\n",
    " day 10: Exception Handling<br>\n",
    " day 11: Object Oriented Programming<br>"
   ]
  },
  {
   "cell_type": "code",
   "execution_count": null,
   "id": "5f77e28c-9b91-46ab-ae6f-1e75bad253ec",
   "metadata": {},
   "outputs": [],
   "source": []
  }
 ],
 "metadata": {
  "kernelspec": {
   "display_name": "Python 3 (ipykernel)",
   "language": "python",
   "name": "python3"
  },
  "language_info": {
   "codemirror_mode": {
    "name": "ipython",
    "version": 3
   },
   "file_extension": ".py",
   "mimetype": "text/x-python",
   "name": "python",
   "nbconvert_exporter": "python",
   "pygments_lexer": "ipython3",
   "version": "3.13.7"
  }
 },
 "nbformat": 4,
 "nbformat_minor": 5
}
