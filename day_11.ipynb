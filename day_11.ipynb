{
 "cells": [
  {
   "cell_type": "markdown",
   "id": "da75c08d-5e14-4301-ba6c-0d95f6f0f15d",
   "metadata": {},
   "source": [
    "**Object Oriented Programming**"
   ]
  },
  {
   "cell_type": "code",
   "execution_count": null,
   "id": "09ad255e-aa7b-44a0-b133-45215f986faa",
   "metadata": {},
   "outputs": [],
   "source": [
    "# oops is concept of representing real life entities in programming language using classes and objects based on their behavior and properties\n",
    "# it helps make code modular,reusable and easier to maintain"
   ]
  },
  {
   "cell_type": "markdown",
   "id": "21af464b-5d4d-433d-b24b-4d43fb2d2bc7",
   "metadata": {},
   "source": [
    "Class and object:"
   ]
  },
  {
   "cell_type": "code",
   "execution_count": null,
   "id": "49f82f94-2669-4b50-a8cd-aa31b20a871d",
   "metadata": {},
   "outputs": [],
   "source": [
    "# Class: blueprint to create an object. Classes defines a set of attributes and methods that the created objects can have\n",
    "# object: instance of class. it represents a specific implementation of a class and holds its own data"
   ]
  },
  {
   "cell_type": "markdown",
   "id": "9ddc7d76-0620-42e6-9f2c-ae69bf0a6f3f",
   "metadata": {},
   "source": [
    "Creating a class"
   ]
  },
  {
   "cell_type": "code",
   "execution_count": 2,
   "id": "84963398-7ab9-4d02-b610-e9a0ffff076c",
   "metadata": {},
   "outputs": [],
   "source": [
    "class Car:\n",
    "    wheels=4\n",
    "    def __init__(self,brand,color):\n",
    "        self.brand=brand\n",
    "        self.color=color"
   ]
  },
  {
   "cell_type": "code",
   "execution_count": null,
   "id": "c7bf25cb-b2c1-45ec-8088-b3214786259e",
   "metadata": {},
   "outputs": [],
   "source": [
    "# CLass car: defines a class named car\n",
    "# wheels: a class attribute shared by all instances of class\n",
    "# __init__ method: initializes brand and color attribute when new object is created\n",
    "# self: it is reference to current instance of a class"
   ]
  },
  {
   "cell_type": "markdown",
   "id": "78d090c9-fed7-42ce-b399-d6dff6ebc082",
   "metadata": {},
   "source": [
    "Creating an object"
   ]
  },
  {
   "cell_type": "code",
   "execution_count": 5,
   "id": "da7c5d9a-2daa-44fe-9cc4-e58f0274e193",
   "metadata": {},
   "outputs": [
    {
     "name": "stdout",
     "output_type": "stream",
     "text": [
      "BMW\n",
      "Yellow\n",
      "4\n"
     ]
    }
   ],
   "source": [
    "car1=Car(\"BMW\",\"Yellow\")\n",
    "print(car1.brand)\n",
    "print(car1.color)\n",
    "print(car1.wheels)"
   ]
  },
  {
   "cell_type": "markdown",
   "id": "c12b8989-3708-4705-93cf-2d350d7b54ee",
   "metadata": {},
   "source": [
    "Class and Instance Variables"
   ]
  },
  {
   "cell_type": "code",
   "execution_count": null,
   "id": "99a8712b-54b7-401d-9d3b-59ca2c543323",
   "metadata": {},
   "outputs": [],
   "source": [
    "# class variables:\n",
    "#     These are variable that are shared across all instances of class\n",
    "#     It is defined at the class level, outside any methods\n",
    "#     All objects of the class share the same value for a class variable unless explicitly overridden in an object.\n",
    "\n",
    "\n",
    "# Instance Variable:\n",
    "#     Variables that are unique to each instance (object) of a class\n",
    "#     These are defined within the __init__ method or other instance methods.\n",
    "#     Each object maintains its own copy of instance variables, independent of other objects."
   ]
  },
  {
   "cell_type": "code",
   "execution_count": 6,
   "id": "f8a1a41a-c5ea-4938-97ea-9a630ee0b300",
   "metadata": {},
   "outputs": [
    {
     "name": "stdout",
     "output_type": "stream",
     "text": [
      "BMW\n",
      "Yellow\n",
      "4\n",
      "4\n"
     ]
    }
   ],
   "source": [
    "class Car:\n",
    "    wheels=4    #Class variable\n",
    "    def __init__(self,brand,color):\n",
    "        self.brand=brand               #Instance variable\n",
    "        self.color=color\n",
    "\n",
    "        \n",
    "car1=Car(\"BMW\",\"Yellow\")\n",
    "print(car1.brand)                      # instance variable\n",
    "print(car1.color)                      # instance variable\n",
    "car1.brand=\"Mercedes\"                  # updating instance variable\n",
    "print(car1.brand)                  \n",
    "print(car1.wheels)                     # Class variable\n",
    "\n",
    "\n",
    "car2=Car(\"Limousine\",\"White\")\n",
    "car.wheels=12                         # updating class variable\n",
    "print(car2.wheels)"
   ]
  },
  {
   "cell_type": "markdown",
   "id": "dec353ff-88d5-49a8-822d-f2d6f4f2b59e",
   "metadata": {},
   "source": [
    "**4 Pillars of oops**<br>\n",
    "    **1.Inheritance**<br>\n",
    "    **2.Encapsulation**<br>\n",
    "    **3.Abstraction**<br>\n",
    "    **4.Polymorphism**"
   ]
  },
  {
   "cell_type": "markdown",
   "id": "8836a26e-7991-40b7-b7be-df42f86b60f9",
   "metadata": {},
   "source": [
    "Inheritance: "
   ]
  },
  {
   "cell_type": "code",
   "execution_count": null,
   "id": "5fdbf506-cf44-4552-b12e-430f7f964a2b",
   "metadata": {},
   "outputs": [],
   "source": [
    "# Inheritance allows a class (child class) to acquire properties and methods of another class (parent class).\n",
    "# types:\n",
    "    # 1. Single \n",
    "    # 2. Multilevel\n",
    "    # 3. Multiple\n",
    "    # 4. Hierarchial "
   ]
  },
  {
   "cell_type": "code",
   "execution_count": 11,
   "id": "6cbaf1b6-e1ff-4125-9e55-b3e3cd6a2e94",
   "metadata": {},
   "outputs": [
    {
     "name": "stdout",
     "output_type": "stream",
     "text": [
      "This is a parent class\n",
      "This is a child class\n"
     ]
    }
   ],
   "source": [
    "# Single level -A child class inherits from a single parent class.\n",
    "class Parent:\n",
    "    def show_parent(self):\n",
    "        print(\"This is a parent class\")\n",
    "class Child(Parent):\n",
    "    def show_child(self):\n",
    "        print(\"This is a child class\")\n",
    "child1= Child()\n",
    "child1.show_parent()\n",
    "child1.show_child()"
   ]
  },
  {
   "cell_type": "code",
   "execution_count": 13,
   "id": "eaf4237d-b76f-4f1d-997d-8efae05a82a1",
   "metadata": {},
   "outputs": [
    {
     "name": "stdout",
     "output_type": "stream",
     "text": [
      "This is a grandparent class\n",
      "This is a parent class\n",
      "This is a child class\n"
     ]
    }
   ],
   "source": [
    "# Multilevel- A class inherits from a child class, forming a chain.\n",
    "class Grandparent:\n",
    "    def show_grandparent(self):\n",
    "        print(\"This is a grandparent class\")\n",
    "class Parent(Grandparent):\n",
    "    def show_parent(self):\n",
    "        print(\"This is a parent class\")\n",
    "class Child(Parent,Grandparent):\n",
    "    def show_child(self):\n",
    "        print(\"This is a child class\")\n",
    "child1= Child()\n",
    "child1.show_grandparent()\n",
    "child1.show_parent()\n",
    "child1.show_child()"
   ]
  },
  {
   "cell_type": "code",
   "execution_count": 15,
   "id": "972127e4-f755-4752-9bd9-291fac40990f",
   "metadata": {},
   "outputs": [
    {
     "name": "stdout",
     "output_type": "stream",
     "text": [
      "This is mother class\n",
      "This is father clasS\n",
      "This is child class\n"
     ]
    }
   ],
   "source": [
    "# Multiple- A child class inherits from more than one parent class.\n",
    "class Mother:\n",
    "    def show_mother(self):\n",
    "        print(\"This is mother class\")\n",
    "class Father:\n",
    "    def show_father(self):\n",
    "        print(\"This is father clasS\")\n",
    "class Child(Mother,Father):\n",
    "    def show_child(self):\n",
    "        print(\"This is child class\")\n",
    "child1=Child()\n",
    "child1.show_mother()\n",
    "child1.show_father()\n",
    "child1.show_child()\n",
    "    "
   ]
  },
  {
   "cell_type": "code",
   "execution_count": 16,
   "id": "be254ba1-cea4-458f-a44c-cab4ef774a62",
   "metadata": {},
   "outputs": [
    {
     "name": "stdout",
     "output_type": "stream",
     "text": [
      "This is Parent class\n",
      "This is Parent class\n"
     ]
    }
   ],
   "source": [
    "# Heirarchial- Multiple child classes inherit from the same parent class.\n",
    "class Parent:\n",
    "    def display(self):\n",
    "        print(\"This is Parent class\")\n",
    "class Child1(Parent):\n",
    "    def child1_method(self):\n",
    "        print(\"This is Child1 class\")\n",
    "class Child2(Parent):\n",
    "    def child2_method(self):\n",
    "        print(\"This is Child2 class\")\n",
    "obj1 = Child1()\n",
    "obj2 = Child2()\n",
    "obj1.display()\n",
    "obj2.display()"
   ]
  },
  {
   "cell_type": "markdown",
   "id": "2a535514-ff7f-40ab-b014-e70917824320",
   "metadata": {},
   "source": [
    "Encapsulation"
   ]
  },
  {
   "cell_type": "code",
   "execution_count": 17,
   "id": "6e8fb6be-a545-4a7a-af82-52fe92abf91a",
   "metadata": {},
   "outputs": [],
   "source": [
    "# bundling of data(attributes) or methods(funtions) within a class, restricting access to some components to control interactions\n",
    "# Types of Encapsulation:\n",
    "# Public Members: Accessible from anywhere.\n",
    "# Protected Members: Accessible within the class and its subclasses.\n",
    "# Private Members: Accessible only within the class.\n",
    "\n",
    "# Use _variable or __variable to indicate protected/private data."
   ]
  },
  {
   "cell_type": "code",
   "execution_count": 22,
   "id": "8f695488-c01f-4612-986c-532bb0ef2878",
   "metadata": {},
   "outputs": [
    {
     "name": "stdout",
     "output_type": "stream",
     "text": [
      "Name:himanshu,Marks:95\n",
      "himanshu\n"
     ]
    },
    {
     "ename": "AttributeError",
     "evalue": "'Student' object has no attribute 'marks'",
     "output_type": "error",
     "traceback": [
      "\u001b[31m---------------------------------------------------------------------------\u001b[39m",
      "\u001b[31mAttributeError\u001b[39m                            Traceback (most recent call last)",
      "\u001b[36mCell\u001b[39m\u001b[36m \u001b[39m\u001b[32mIn[22]\u001b[39m\u001b[32m, line 14\u001b[39m\n\u001b[32m     11\u001b[39m \u001b[38;5;28mprint\u001b[39m(stud1.name)\n\u001b[32m     13\u001b[39m \u001b[38;5;66;03m# Direct Accesing private variable -> AttributeError\u001b[39;00m\n\u001b[32m---> \u001b[39m\u001b[32m14\u001b[39m \u001b[38;5;28mprint\u001b[39m(\u001b[43mstud1\u001b[49m\u001b[43m.\u001b[49m\u001b[43mmarks\u001b[49m)\n",
      "\u001b[31mAttributeError\u001b[39m: 'Student' object has no attribute 'marks'"
     ]
    }
   ],
   "source": [
    "class Student:\n",
    "    def __init__(self,name:str,marks:int):\n",
    "        self.name=name                      # public\n",
    "        self.__marks=marks                  # private\n",
    "    def show(self):\n",
    "        print(f\"Name:{self.name},Marks:{self.__marks}\")\n",
    "stud1=Student(\"himanshu\",95)\n",
    "stud1.show()\n",
    "\n",
    "# Direct Accessing public variable\n",
    "print(stud1.name)\n",
    "\n",
    "# Direct Accesing private variable -> AttributeError\n",
    "print(stud1.marks)"
   ]
  },
  {
   "cell_type": "code",
   "execution_count": 24,
   "id": "32228f3c-f9e8-4f74-b5a7-c65ebc90eb6f",
   "metadata": {},
   "outputs": [
    {
     "name": "stdout",
     "output_type": "stream",
     "text": [
      "Name:himanshu,Marks:95\n",
      "95\n",
      "Name:himanshu,Marks:90\n"
     ]
    }
   ],
   "source": [
    "# To solve AttributeError and access private variable, we use Getters and Setters:\n",
    "class Student:\n",
    "    def __init__(self,name:str,marks:int):\n",
    "        self.name=name                      # public\n",
    "        self.__marks=marks                  # private\n",
    "    def show(self):\n",
    "        print(f\"Name:{self.name},Marks:{self.__marks}\")\n",
    "    def get_marks(self):\n",
    "        return self.__marks\n",
    "    def set_marks(self,marks):\n",
    "        self.__marks=marks\n",
    "stud1=Student(\"himanshu\",95)\n",
    "stud1.show()\n",
    "\n",
    "print(stud1.get_marks())\n",
    "stud1.set_marks(90)\n",
    "stud1.show()"
   ]
  },
  {
   "cell_type": "code",
   "execution_count": 25,
   "id": "a4d35b68-617a-42b4-afee-91f6103a9023",
   "metadata": {},
   "outputs": [
    {
     "name": "stdout",
     "output_type": "stream",
     "text": [
      "Name: Rahul, Department: IT, Salary: 50000\n",
      "Rahul\n",
      "IT\n"
     ]
    }
   ],
   "source": [
    "class Employee:\n",
    "    def __init__(self, name, salary):\n",
    "        self.name = name            # public\n",
    "        self._department = \"IT\"     # protected\n",
    "        self.__salary = salary      # private\n",
    "\n",
    "    def show(self):\n",
    "        print(f\"Name: {self.name}, Department: {self._department}, Salary: {self.__salary}\")\n",
    "\n",
    "e1 = Employee(\"Rahul\", 50000)\n",
    "e1.show()\n",
    "\n",
    "# Public access\n",
    "print(e1.name)\n",
    "\n",
    "# Protected (can be accessed but not recommended)\n",
    "print(e1._department)\n",
    "\n",
    "# Private (cannot be accessed directly)\n",
    "# print(e1.__salary)  # ❌ AttributeError\n"
   ]
  },
  {
   "cell_type": "markdown",
   "id": "d0d1f784-e3af-4b8f-929e-844caa492c8c",
   "metadata": {},
   "source": [
    "Abstraction"
   ]
  },
  {
   "cell_type": "code",
   "execution_count": null,
   "id": "e0d5d35b-6417-49a7-91a1-dd430f26b4e0",
   "metadata": {},
   "outputs": [],
   "source": [
    "# Abstraction hides the internal implementation details while exposing only the necessary functionality.\n",
    "# It helps focus on \"what to do\" rather than \"how to do it.\""
   ]
  },
  {
   "cell_type": "code",
   "execution_count": 33,
   "id": "cf344ebb-cc86-4b65-b70b-108b638b3bb0",
   "metadata": {},
   "outputs": [
    {
     "name": "stdout",
     "output_type": "stream",
     "text": [
      "This is a geometric shape.\n",
      "Area of circle: 28.259999999999998\n",
      "This is a geometric shape.\n",
      "Area of square: 16\n"
     ]
    }
   ],
   "source": [
    "from abc import ABC, abstractmethod\n",
    "\n",
    "class Shape(ABC):\n",
    "    @abstractmethod    #has no implementation\n",
    "    def area(self):\n",
    "        pass\n",
    "\n",
    "    # concrete mtehod -has implementation\n",
    "    def describe(self):\n",
    "        print(\"This is a geometric shape.\")\n",
    "\n",
    "class Circle(Shape):\n",
    "    def __init__(self,radius):\n",
    "        self.radius=radius\n",
    "        \n",
    "    def area(self):\n",
    "        return 3.14*self.radius*self.radius\n",
    "\n",
    "class Square(Shape):\n",
    "    def __init__(self,side):\n",
    "        self.side=side\n",
    "        \n",
    "    def area(self):\n",
    "        return self.side**2\n",
    "\n",
    "shape1=Circle(3)\n",
    "shape1.describe()\n",
    "print(\"Area of circle:\",shape1.area())\n",
    "\n",
    "shape2=Square(4)\n",
    "shape2.describe()\n",
    "print(\"Area of square:\",shape2.area())"
   ]
  },
  {
   "cell_type": "markdown",
   "id": "2d29b8ed-37d4-432f-838e-63496e519853",
   "metadata": {},
   "source": [
    "Polymorphism"
   ]
  },
  {
   "cell_type": "code",
   "execution_count": null,
   "id": "95116648-cc69-4b4d-8b23-42f11575c629",
   "metadata": {},
   "outputs": [],
   "source": [
    "# Polymorphism in Python means \"same operation, different behavior.\"\n",
    "# It allows functions or methods with the same name to work differently depending on the type of object they are acting upon."
   ]
  },
  {
   "cell_type": "code",
   "execution_count": 38,
   "id": "1baad509-d4bc-417c-a3ed-cd99544855a3",
   "metadata": {},
   "outputs": [
    {
     "name": "stdout",
     "output_type": "stream",
     "text": [
      "Dog barks\n",
      "Cat meows\n"
     ]
    }
   ],
   "source": [
    "# 1️⃣ Method ovveriding(runtime polymorphism)-\n",
    "# In method overriding, a child class provides a specific implementation of a method already defined in the parent class.\n",
    "\n",
    "class Animal:\n",
    "    def sound(self):\n",
    "        print(\"Animal makes sound\")\n",
    "class Dog(Animal):\n",
    "    def sound(self):           # overriding parent method\n",
    "        print(\"Dog barks\")\n",
    "class Cat(Animal):\n",
    "    def sound(self):\n",
    "        print(\"Cat meows\")\n",
    "\n",
    "d=Dog()\n",
    "c=Cat()\n",
    "d.sound()\n",
    "c.sound()"
   ]
  },
  {
   "cell_type": "code",
   "execution_count": 40,
   "id": "62ce6e07-4776-4956-aba7-982ca46edec1",
   "metadata": {},
   "outputs": [
    {
     "name": "stdout",
     "output_type": "stream",
     "text": [
      "Cat meows\n",
      "Dog barks\n"
     ]
    }
   ],
   "source": [
    "# 2️⃣ Duck Typing (Python-specific Polymorphism)\n",
    "# Python doesn’t require explicit inheritance for polymorphism.\n",
    "# If two objects have methods with the same name, they can be used interchangeably.\n",
    "\n",
    "# “If it walks like a duck and quacks like a duck, it’s a duck.” 🦆\n",
    "\n",
    "def make_sound(animal):\n",
    "    return animal.sound()\n",
    "\n",
    "make_sound(Cat())\n",
    "make_sound(Dog())"
   ]
  },
  {
   "cell_type": "code",
   "execution_count": 43,
   "id": "c691d5b9-026e-424a-bcbf-d6c4b4461595",
   "metadata": {},
   "outputs": [
    {
     "name": "stdout",
     "output_type": "stream",
     "text": [
      "(4, 6)\n"
     ]
    }
   ],
   "source": [
    "# 3️⃣ Operator Overloading\n",
    "# Python allows operator overloading, where built-in operators behave differently for user-defined objects.\n",
    "# This is achieved through magic (dunder) methods like __add__, __sub__, __mul__, etc.\n",
    "\n",
    "class Point:\n",
    "    def __init__(self,x,y):\n",
    "        self.x=x\n",
    "        self.y=y\n",
    "    def __add__(self,other):\n",
    "        return Point(self.x+other.x,self.y+other.y)\n",
    "    def __str__(self):\n",
    "        return f\"({self.x}, {self.y})\"\n",
    "p1 = Point(1, 2)\n",
    "p2 = Point(3, 4)\n",
    "p3 = p1 + p2   # same '+' operator, different behavior\n",
    "print(p3)"
   ]
  },
  {
   "cell_type": "code",
   "execution_count": 44,
   "id": "6ecd6922-416c-4673-be00-6d0c7f363c27",
   "metadata": {},
   "outputs": [
    {
     "name": "stdout",
     "output_type": "stream",
     "text": [
      "15\n",
      "30\n",
      "10\n"
     ]
    }
   ],
   "source": [
    "# Method Overloading(Compile time polymorphism)-Python doesn’t support true method overloading, but we can simulate it using default parameters.\n",
    "\n",
    "class Calculator:\n",
    "    def add(self, *args):\n",
    "        return sum(args)\n",
    "\n",
    "calc = Calculator()\n",
    "print(calc.add(5, 10))       # Two arguments\n",
    "print(calc.add(5, 10, 15))   # Three arguments\n",
    "print(calc.add(1, 2, 3, 4))  # Any number of arguments"
   ]
  }
 ],
 "metadata": {
  "kernelspec": {
   "display_name": "Python 3 (ipykernel)",
   "language": "python",
   "name": "python3"
  },
  "language_info": {
   "codemirror_mode": {
    "name": "ipython",
    "version": 3
   },
   "file_extension": ".py",
   "mimetype": "text/x-python",
   "name": "python",
   "nbconvert_exporter": "python",
   "pygments_lexer": "ipython3",
   "version": "3.13.7"
  }
 },
 "nbformat": 4,
 "nbformat_minor": 5
}
